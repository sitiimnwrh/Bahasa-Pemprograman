{
 "cells": [
  {
   "cell_type": "code",
   "execution_count": null,
   "metadata": {},
   "outputs": [],
   "source": [
    "a = 'mahasiswa'\n",
    "\n",
    "def test ():\n",
    "    print ('jono adalah' + a)\n",
    "\n",
    "def A():\n",
    "    print (1 , a)\n",
    "\n",
    "test a        "
   ]
  },
  {
   "cell_type": "code",
   "execution_count": null,
   "metadata": {},
   "outputs": [],
   "source": []
  }
 ],
 "metadata": {
  "language_info": {
   "name": "python"
  }
 },
 "nbformat": 4,
 "nbformat_minor": 2
}
