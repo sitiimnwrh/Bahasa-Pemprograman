{
 "cells": [
  {
   "cell_type": "code",
   "execution_count": 1,
   "metadata": {},
   "outputs": [],
   "source": [
    "from collections import namedtuple"
   ]
  },
  {
   "cell_type": "code",
   "execution_count": 2,
   "metadata": {},
   "outputs": [],
   "source": [
    "Mahasiswa = namedtuple('Mahasiswa', ['name','age','address'])"
   ]
  },
  {
   "cell_type": "code",
   "execution_count": 4,
   "metadata": {},
   "outputs": [],
   "source": [
    "mhs = Mahasiswa(name=\"Siti\", age=20, address=\"Kabupaten Tangerang\")"
   ]
  },
  {
   "cell_type": "code",
   "execution_count": 5,
   "metadata": {},
   "outputs": [
    {
     "name": "stdout",
     "output_type": "stream",
     "text": [
      "Name : Siti\n",
      "Age : 20\n",
      "Adress : Kabupaten Tangerang\n"
     ]
    }
   ],
   "source": [
    "print(\"Name :\", mhs.name)\n",
    "print(\"Age :\", mhs.age)\n",
    "print(\"Address :\", mhs.address)"
   ]
  },
  {
   "cell_type": "code",
   "execution_count": 7,
   "metadata": {},
   "outputs": [],
   "source": [
    "class Mahasiswa:\n",
    "    def __init__(self, name, age, address):\n",
    "        self.name = name\n",
    "        self.age = age\n",
    "        self.address = address\n",
    "\n",
    "mhs1= Mahasiswa(name=\"Siti\", age=20, address=\"Kabupaten Tangerang\")\n",
    "mhs2= Mahasiswa(name=\"Rita\", age=20, address=\"Kabupaten Tangerang\")"
   ]
  },
  {
   "cell_type": "code",
   "execution_count": null,
   "metadata": {},
   "outputs": [],
   "source": [
    "print(\"Name :\", mhs1.name)\n",
    "print(\"Age :\", mhs1.age)\n",
    "print(\"Address :\", mhs1.address)\n",
    "print(\"Name :\", mhs2.name)\n",
    "print(\"Age :\", mhs2.age)\n",
    "print(\"Address :\", mhs1.address)"
   ]
  }
 ],
 "metadata": {
  "kernelspec": {
   "display_name": "Python 3",
   "language": "python",
   "name": "python3"
  },
  "language_info": {
   "codemirror_mode": {
    "name": "ipython",
    "version": 3
   },
   "file_extension": ".py",
   "mimetype": "text/x-python",
   "name": "python",
   "nbconvert_exporter": "python",
   "pygments_lexer": "ipython3",
   "version": "3.10.12"
  }
 },
 "nbformat": 4,
 "nbformat_minor": 2
}
